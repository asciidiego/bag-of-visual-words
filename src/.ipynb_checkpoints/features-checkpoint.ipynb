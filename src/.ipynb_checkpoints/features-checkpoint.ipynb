{
 "cells": [
  {
   "cell_type": "markdown",
   "metadata": {},
   "source": [
    "# Image Analysis Optional Assignment: Using bag of visual words for scene classification.\n",
    "\n",
    "## Introduction\n",
    "\n",
    "## First Part: Extracting features"
   ]
  },
  {
   "cell_type": "markdown",
   "metadata": {},
   "source": [
    "Before extracting features we need to get our hands into a dataset and import the necessary packages. The dataset I used for this project was Caltech 101 with 101 categories, it can be found in the `Caltech101` folder. To download it go to [their website](http://www.vision.caltech.edu/Image_Datasets/Caltech101/Caltech101.html). I also used the **OpenCV Python Package (3.4.1)** in the implementation of this project, to download any version, go to [the official OpenCV website](https://opencv.org/releases.html)."
   ]
  },
  {
   "cell_type": "code",
   "execution_count": 49,
   "metadata": {},
   "outputs": [
    {
     "name": "stdout",
     "output_type": "stream",
     "text": [
      "C:\\Users\\diego\\Desktop\\bag-of-words\\data\\caltech101\\101_ObjectCategories\\accordion\\image_0001.jpeg\n",
      "None\n"
     ]
    }
   ],
   "source": [
    "# Import modules\n",
    "import cv2 as cv\n",
    "import numpy as np\n",
    "import os\n",
    "\n",
    "# Try to read a sample image\n",
    "imgs_path = '../data/caltech101/101_ObjectCategories'\n",
    "category_name = 'accordion'\n",
    "image_name = 'image_0001.jpg'\n",
    "image_path = (imgs_path, category_name, image_name)\n",
    "image_path = '/'.join(image_path)\n",
    "# Convert to absolute otherwise CV will not work\n",
    "image_path = os.path.abspath(image_path)\n",
    "print(image_path)\n",
    "# Read image\n",
    "img = cv2.imread(image_path)\n",
    "print(img)"
   ]
  }
 ],
 "metadata": {
  "kernelspec": {
   "display_name": "Python 3",
   "language": "python",
   "name": "python3"
  },
  "language_info": {
   "codemirror_mode": {
    "name": "ipython",
    "version": 3
   },
   "file_extension": ".py",
   "mimetype": "text/x-python",
   "name": "python",
   "nbconvert_exporter": "python",
   "pygments_lexer": "ipython3",
   "version": "3.6.5"
  }
 },
 "nbformat": 4,
 "nbformat_minor": 2
}
