{
 "cells": [
  {
   "cell_type": "markdown",
   "metadata": {},
   "source": [
    "# Prediction of classes using a trained SVM of a bag of words\n",
    "\n",
    "## Part 1. Import modules and load the data"
   ]
  },
  {
   "cell_type": "code",
   "execution_count": 3,
   "metadata": {},
   "outputs": [
    {
     "name": "stdout",
     "output_type": "stream",
     "text": [
      "Data loaded! (svm.pkl)\n"
     ]
    }
   ],
   "source": [
    "import cv2 as cv\n",
    "import numpy as np\n",
    "import os\n",
    "from sklearn.svm import LinearSVC\n",
    "from sklearn.externals import joblib\n",
    "from scipy.cluster.vq import *\n",
    "from imutils import paths\n",
    "\n",
    "DATA_FILENAME = \"svm.pkl\"\n",
    "\n",
    "# Load the classifier, class names, scaler, number of clusters and vocabulary \n",
    "clf, classes_names, stdSlr, k, voc = joblib.load(DATA_FILENAME)\n",
    "print(\"Data loaded! (\"+DATA_FILENAME+\")\")"
   ]
  },
  {
   "cell_type": "markdown",
   "metadata": {},
   "source": [
    "## Part 2. Read the testing set"
   ]
  },
  {
   "cell_type": "code",
   "execution_count": 4,
   "metadata": {},
   "outputs": [],
   "source": [
    "test_path = '../data/upf/test_set/'\n",
    "image_paths = []\n",
    "testing_categories = os.listdir(test_path)\n",
    "for test_category in testing_categories:\n",
    "    dir = os.path.join(test_path, test_category)\n",
    "    class_path = list(paths.list_images(dir)) # This is the path to all the images given A SINGLE CLASS\n",
    "    image_paths+=class_path"
   ]
  },
  {
   "cell_type": "markdown",
   "metadata": {},
   "source": [
    "## Part 3. Calculate keypoints and descriptors"
   ]
  },
  {
   "cell_type": "code",
   "execution_count": 5,
   "metadata": {},
   "outputs": [],
   "source": [
    "sift = cv.xfeatures2d.SIFT_create()\n",
    "\n",
    "# List where all the descriptors are stored\n",
    "des_list = []\n",
    "\n",
    "for image_path in image_paths:\n",
    "    im = cv.imread(image_path)\n",
    "    if im.all == None:\n",
    "        print(\"No such file {}\\nCheck if the file exists\".format(image_path))\n",
    "    kpts, des = sift.detectAndCompute(im, None)\n",
    "    des_list.append((image_path, kpts, des))"
   ]
  },
  {
   "cell_type": "markdown",
   "metadata": {},
   "source": [
    "### Part 4. Stack the descriptors in a vertical numpy array"
   ]
  },
  {
   "cell_type": "code",
   "execution_count": 6,
   "metadata": {},
   "outputs": [],
   "source": [
    "# Stack all the descriptors vertically in a numpy array\n",
    "descriptors = des_list[0][2]\n",
    "for image_path, keypoint, descriptor in des_list[0:]:\n",
    "    descriptors = np.vstack((descriptors, descriptor))"
   ]
  },
  {
   "cell_type": "code",
   "execution_count": 7,
   "metadata": {},
   "outputs": [],
   "source": [
    "# Calculate the histogram for the new images\n",
    "test_features = np.zeros((len(image_paths), k), \"float32\")\n",
    "for i in range(len(image_paths)):\n",
    "    words, distance = vq(des_list[i][2],voc)\n",
    "    for w in words:\n",
    "        test_features[i][w] += 1"
   ]
  },
  {
   "cell_type": "code",
   "execution_count": 8,
   "metadata": {},
   "outputs": [],
   "source": [
    "# Perform Tf-Idf vectorization\n",
    "# Number of total occurences (per word)\n",
    "nbr_occurences = np.sum(test_features > 0, axis = 0)\n",
    "# Inverse Document Frequency\n",
    "idf = np.array(np.log((1.0*len(image_paths)+1) / (1.0*nbr_occurences + 1)), 'float32')\n",
    "\n",
    "# Scale the features\n",
    "test_features = stdSlr.transform(test_features)"
   ]
  },
  {
   "cell_type": "code",
   "execution_count": 10,
   "metadata": {},
   "outputs": [
    {
     "name": "stdout",
     "output_type": "stream",
     "text": [
      "['anchor', 'anchor', 'anchor', 'anchor', 'bass', 'bass', 'bass', 'bass', 'ceiling_fan', 'ceiling_fan', 'ceiling_fan', 'ceiling_fan']\n"
     ]
    }
   ],
   "source": [
    "# Perform the predictions\n",
    "predictions =  [classes_names[i] for i in clf.predict(test_features)]"
   ]
  },
  {
   "cell_type": "code",
   "execution_count": 54,
   "metadata": {},
   "outputs": [],
   "source": [
    "for image_path, prediction in zip(image_paths, predictions):\n",
    "    image = cv.imread(image_path)\n",
    "    cv.namedWindow(\"Image\", cv.WINDOW_NORMAL)\n",
    "    pt = (0, 3 * image.shape[0] // 4)\n",
    "    cv.putText(image, prediction, pt ,cv.FONT_HERSHEY_SIMPLEX, 2, [0, 255, 0], 2)\n",
    "    cv.imshow(\"Image\", image)\n",
    "    cv.waitKey(1000)\n",
    "    "
   ]
  },
  {
   "cell_type": "code",
   "execution_count": 55,
   "metadata": {},
   "outputs": [],
   "source": [
    "cv.destroyAllWindows()"
   ]
  }
 ],
 "metadata": {
  "kernelspec": {
   "display_name": "Python 3",
   "language": "python",
   "name": "python3"
  },
  "language_info": {
   "codemirror_mode": {
    "name": "ipython",
    "version": 3
   },
   "file_extension": ".py",
   "mimetype": "text/x-python",
   "name": "python",
   "nbconvert_exporter": "python",
   "pygments_lexer": "ipython3",
   "version": "3.6.5"
  }
 },
 "nbformat": 4,
 "nbformat_minor": 2
}
